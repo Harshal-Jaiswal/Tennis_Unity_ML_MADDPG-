{
 "cells": [
  {
   "cell_type": "markdown",
   "metadata": {},
   "source": [
    "# Collaboration and Competition\n",
    "\n",
    "---\n",
    "\n",
    "You are welcome to use this coding environment to train your agent for the project.  Follow the instructions below to get started!\n",
    "\n",
    "### 1. Start the Environment\n",
    "\n",
    "Run the next code cell to install a few packages.  This line will take a few minutes to run!"
   ]
  },
  {
   "cell_type": "code",
   "execution_count": 1,
   "metadata": {},
   "outputs": [
    {
     "name": "stdout",
     "output_type": "stream",
     "text": [
      "\u001b[31mtensorflow 1.7.1 has requirement numpy>=1.13.3, but you'll have numpy 1.12.1 which is incompatible.\u001b[0m\r\n",
      "\u001b[31mipython 6.5.0 has requirement prompt-toolkit<2.0.0,>=1.0.15, but you'll have prompt-toolkit 3.0.5 which is incompatible.\u001b[0m\r\n"
     ]
    }
   ],
   "source": [
    "!pip -q install ./python"
   ]
  },
  {
   "cell_type": "markdown",
   "metadata": {},
   "source": [
    "The environment is already saved in the Workspace and can be accessed at the file path provided below. "
   ]
  },
  {
   "cell_type": "code",
   "execution_count": 2,
   "metadata": {},
   "outputs": [
    {
     "name": "stderr",
     "output_type": "stream",
     "text": [
      "INFO:unityagents:\n",
      "'Academy' started successfully!\n",
      "Unity Academy name: Academy\n",
      "        Number of Brains: 1\n",
      "        Number of External Brains : 1\n",
      "        Lesson number : 0\n",
      "        Reset Parameters :\n",
      "\t\t\n",
      "Unity brain name: TennisBrain\n",
      "        Number of Visual Observations (per agent): 0\n",
      "        Vector Observation space type: continuous\n",
      "        Vector Observation space size (per agent): 8\n",
      "        Number of stacked Vector Observation: 3\n",
      "        Vector Action space type: continuous\n",
      "        Vector Action space size (per agent): 2\n",
      "        Vector Action descriptions: , \n"
     ]
    }
   ],
   "source": [
    "from unityagents import UnityEnvironment\n",
    "import numpy as np\n",
    "\n",
    "env = UnityEnvironment(file_name=\"/data/Tennis_Linux_NoVis/Tennis\")"
   ]
  },
  {
   "cell_type": "markdown",
   "metadata": {},
   "source": [
    "Environments contain **_brains_** which are responsible for deciding the actions of their associated agents. Here we check for the first brain available, and set it as the default brain we will be controlling from Python."
   ]
  },
  {
   "cell_type": "code",
   "execution_count": 3,
   "metadata": {},
   "outputs": [],
   "source": [
    "# get the default brain\n",
    "brain_name = env.brain_names[0]\n",
    "brain = env.brains[brain_name]"
   ]
  },
  {
   "cell_type": "markdown",
   "metadata": {},
   "source": [
    "### 2. Examine the State and Action Spaces\n",
    "\n",
    "Run the code cell below to print some information about the environment."
   ]
  },
  {
   "cell_type": "code",
   "execution_count": 4,
   "metadata": {},
   "outputs": [
    {
     "name": "stdout",
     "output_type": "stream",
     "text": [
      "Number of agents: 2\n",
      "Size of each action: 2\n",
      "There are 2 agents. Each observes a state with length: 24\n",
      "The state for the first agent looks like: [ 0.          0.          0.          0.          0.          0.          0.\n",
      "  0.          0.          0.          0.          0.          0.          0.\n",
      "  0.          0.         -6.65278625 -1.5        -0.          0.\n",
      "  6.83172083  6.         -0.          0.        ]\n"
     ]
    }
   ],
   "source": [
    "# reset the environment\n",
    "env_info = env.reset(train_mode=True)[brain_name]\n",
    "\n",
    "# number of agents \n",
    "num_agents = len(env_info.agents)\n",
    "print('Number of agents:', num_agents)\n",
    "\n",
    "# size of each action\n",
    "action_size = brain.vector_action_space_size\n",
    "print('Size of each action:', action_size)\n",
    "\n",
    "# examine the state space \n",
    "states = env_info.vector_observations\n",
    "state_size = states.shape[1]\n",
    "print('There are {} agents. Each observes a state with length: {}'.format(states.shape[0], state_size))\n",
    "print('The state for the first agent looks like:', states[0])"
   ]
  },
  {
   "cell_type": "markdown",
   "metadata": {},
   "source": [
    "### 3. Take Random Actions in the Environment\n",
    "\n",
    "In the next code cell, you will learn how to use the Python API to control the agent and receive feedback from the environment.\n",
    "\n",
    "Note that **in this coding environment, you will not be able to watch the agents while they are training**, and you should set `train_mode=True` to restart the environment."
   ]
  },
  {
   "cell_type": "code",
   "execution_count": 5,
   "metadata": {},
   "outputs": [
    {
     "name": "stdout",
     "output_type": "stream",
     "text": [
      "Total score (averaged over agents) this episode: -0.004999999888241291\n",
      "Total score (averaged over agents) this episode: -0.004999999888241291\n",
      "Total score (averaged over agents) this episode: -0.004999999888241291\n",
      "Total score (averaged over agents) this episode: -0.004999999888241291\n",
      "Total score (averaged over agents) this episode: -0.004999999888241291\n"
     ]
    }
   ],
   "source": [
    "for i in range(5):                                         # play game for 5 episodes\n",
    "    env_info = env.reset(train_mode=False)[brain_name]     # reset the environment    \n",
    "    states = env_info.vector_observations                  # get the current state (for each agent)\n",
    "    scores = np.zeros(num_agents)                          # initialize the score (for each agent)\n",
    "    while True:\n",
    "        actions = np.random.randn(num_agents, action_size) # select an action (for each agent)\n",
    "        actions = np.clip(actions, -1, 1)                  # all actions between -1 and 1\n",
    "        env_info = env.step(actions)[brain_name]           # send all actions to tne environment\n",
    "        next_states = env_info.vector_observations         # get next state (for each agent)\n",
    "        rewards = env_info.rewards                         # get reward (for each agent)\n",
    "        dones = env_info.local_done                        # see if episode finished\n",
    "        scores += env_info.rewards                         # update the score (for each agent)\n",
    "        states = next_states                               # roll over states to next time step\n",
    "        if np.any(dones):                                  # exit loop if episode finished\n",
    "            break\n",
    "    print('Total score (averaged over agents) this episode: {}'.format(np.mean(scores)))"
   ]
  },
  {
   "cell_type": "markdown",
   "metadata": {},
   "source": [
    "When finished, you can close the environment."
   ]
  },
  {
   "cell_type": "code",
   "execution_count": 6,
   "metadata": {},
   "outputs": [],
   "source": [
    "# env.close()"
   ]
  },
  {
   "cell_type": "markdown",
   "metadata": {},
   "source": [
    "### 4. It's Your Turn!\n",
    "\n",
    "Now it's your turn to train your own agent to solve the environment!  A few **important notes**:\n",
    "- When training the environment, set `train_mode=True`, so that the line for resetting the environment looks like the following:\n",
    "```python\n",
    "env_info = env.reset(train_mode=True)[brain_name]\n",
    "```\n",
    "- To structure your work, you're welcome to work directly in this Jupyter notebook, or you might like to start over with a new file!  You can see the list of files in the workspace by clicking on **_Jupyter_** in the top left corner of the notebook.\n",
    "- In this coding environment, you will not be able to watch the agents while they are training.  However, **_after training the agents_**, you can download the saved model weights to watch the agents on your own machine! "
   ]
  },
  {
   "cell_type": "code",
   "execution_count": 13,
   "metadata": {},
   "outputs": [],
   "source": [
    "from collections import deque\n",
    "from ddpg_agent import Agent\n",
    "import torch\n",
    "import random\n",
    "\n",
    "\n",
    "num_episodes=10000\n",
    "episode_scores = []\n",
    "average_scores = []\n",
    "scores_average_window = 100      \n",
    "solved_score = .60     #(sloved score is 0.5; I set it higher here to achive more robust end-sate performance)\n"
   ]
  },
  {
   "cell_type": "code",
   "execution_count": 14,
   "metadata": {},
   "outputs": [],
   "source": [
    "agent_1 = Agent(state_size=48, action_size=action_size, num_agents=1, random_seed=0)\n",
    "agent_2 = Agent(state_size=48, action_size=action_size, num_agents=1, random_seed=0)"
   ]
  },
  {
   "cell_type": "code",
   "execution_count": 15,
   "metadata": {
    "scrolled": false
   },
   "outputs": [
    {
     "name": "stdout",
     "output_type": "stream",
     "text": [
      "\n",
      "Episode 100\tMax Score: 0.00\tAverage Score: 0.00\n",
      "Episode 200\tMax Score: 0.00\tAverage Score: 0.00\n",
      "Episode 300\tMax Score: 0.00\tAverage Score: 0.01\n",
      "Episode 400\tMax Score: 0.00\tAverage Score: 0.01\n",
      "Episode 500\tMax Score: 0.10\tAverage Score: 0.02\n",
      "Episode 600\tMax Score: 0.09\tAverage Score: 0.07\n",
      "Episode 700\tMax Score: 0.10\tAverage Score: 0.09\n",
      "Episode 800\tMax Score: 0.10\tAverage Score: 0.16\n",
      "Episode 900\tMax Score: 0.10\tAverage Score: 0.26\n",
      "Episode 1000\tMax Score: 0.10\tAverage Score: 0.18\n",
      "Episode 1100\tMax Score: 0.00\tAverage Score: 0.24\n",
      "Episode 1200\tMax Score: 2.30\tAverage Score: 0.43\n",
      "Episode 1300\tMax Score: 0.10\tAverage Score: 0.29\n",
      "Episode 1400\tMax Score: 0.40\tAverage Score: 0.30\n",
      "Episode 1500\tMax Score: 0.30\tAverage Score: 0.50\n",
      "Episode 1600\tMax Score: 0.30\tAverage Score: 0.48\n",
      "Environment solved in 1634 episodes!\tAverage Score: 0.60\n"
     ]
    }
   ],
   "source": [
    "for i_episode in range(1, num_episodes+1):\n",
    "\n",
    "    # reset the unity environment at the beginning of each episode\n",
    "    env_info = env.reset(train_mode=True)[brain_name]     \n",
    "\n",
    "    # get initial state of the unity environment \n",
    "    states = env_info.vector_observations\n",
    "    states = np.reshape(states, (1, 48)) # reshape so we can feed both agents states to each agent\n",
    " \n",
    "    # reset each agent for a new episode\n",
    "    agent_1.reset()\n",
    "    agent_2.reset()\n",
    "\n",
    "    # set the initial episode score to zero.\n",
    "    agent_scores = np.zeros(num_agents)\n",
    "\n",
    "    # Run the episode training loop;\n",
    "    # At each loop step take an action as a function of the current state observations\n",
    "    # Based on the resultant environmental state (next_state) and reward received update the Agents Actor and Critic networks\n",
    "    # If environment episode is done, exit loop...\n",
    "    # Otherwise repeat until done == true \n",
    "    while True:\n",
    "        # determine actions for the unity agents from current sate, using noise for exploration\n",
    "        actions_1 = agent_1.act(states, add_noise=True)\n",
    "        actions_2 = agent_2.act(states, add_noise=True)\n",
    "\n",
    "        # send the actions to the unity agents in the environment and receive resultant environment information\n",
    "        actions = np.concatenate((actions_1, actions_2), axis=0) \n",
    "        actions = np.reshape(actions, (1, 4))\n",
    "        env_info = env.step(actions)[brain_name]\n",
    "\n",
    "        next_states = env_info.vector_observations   # get the next states for each unity agent in the environment\n",
    "        next_states = np.reshape(next_states, (1, 48))\n",
    "        rewards = env_info.rewards                   # get the rewards for each unity agent in the environment\n",
    "        dones = env_info.local_done                  # see if episode has finished for each unity agent in the environment\n",
    "\n",
    "        #Send (S, A, R, S') info to the training agent for replay buffer (memory) and network updates\n",
    "        agent_1.step(states, actions_1, rewards[0], next_states, dones[0])\n",
    "        agent_2.step(states, actions_2, rewards[1], next_states, dones[1])\n",
    "\n",
    "        # set new states to current states for determining next actions\n",
    "        states = next_states\n",
    "        #print(states)\n",
    "        # Update episode score for each unity agent\n",
    "        agent_scores += rewards\n",
    "\n",
    "        # If any unity agent indicates that the episode is done, \n",
    "        # then exit episode loop, to begin new episode\n",
    "        if np.any(dones):\n",
    "            break\n",
    "\n",
    "    # Add episode score to Scores and...\n",
    "    # Calculate mean score over last 100 episodes \n",
    "    # Mean score is calculated over current episodes until i_episode > 100\n",
    "    episode_scores.append(np.max(agent_scores))\n",
    "    average_score = np.mean(episode_scores[i_episode-min(i_episode,scores_average_window):i_episode+1])\n",
    "    average_scores.append(average_score)\n",
    "    #Print current and average score\n",
    "    if i_episode % 100 == 0:\n",
    "        print('\\nEpisode {}\\tMax Score: {:.2f}\\tAverage Score: {:.2f}'.format(i_episode, episode_scores[i_episode-1], average_score), end=\"\")\n",
    "    \n",
    "    # Save trained  Actor and Critic network weights for agent 1\n",
    "    an_filename = \"ddpgActor1_Model.pth\"\n",
    "    torch.save(agent_1.actor_local.state_dict(), an_filename)\n",
    "    cn_filename = \"ddpgCritic1_Model.pth\"\n",
    "    torch.save(agent_1.critic_local.state_dict(), cn_filename)\n",
    "\n",
    "    # Save trained  Actor and Critic network weights for agent 2\n",
    "    an_filename = \"ddpgActor2_Model.pth\"\n",
    "    torch.save(agent_2.actor_local.state_dict(), an_filename)\n",
    "    cn_filename = \"ddpgCritic2_Model.pth\"\n",
    "    torch.save(agent_2.critic_local.state_dict(), cn_filename)\n",
    "\n",
    "    # Check to see if the task is solved (i.e,. avearge_score > solved_score over 100 episodes). \n",
    "    # If yes, save the network weights and scores and end training.\n",
    "    if i_episode > 100 and average_score >= solved_score:\n",
    "        print('\\nEnvironment solved in {:d} episodes!\\tAverage Score: {:.2f}'.format(i_episode, average_score))\n",
    "\n",
    "        # Save the recorded Scores data\n",
    "        scores_filename = \"ddpgAgent_Scores.csv\"\n",
    "        np.savetxt(scores_filename, episode_scores, delimiter=\",\")\n",
    "        break\n"
   ]
  },
  {
   "cell_type": "code",
   "execution_count": 17,
   "metadata": {},
   "outputs": [],
   "source": [
    "np.save('./episode_scores', episode_scores)"
   ]
  },
  {
   "cell_type": "code",
   "execution_count": 18,
   "metadata": {},
   "outputs": [],
   "source": [
    "np.save('./average_scores', average_scores)"
   ]
  },
  {
   "cell_type": "code",
   "execution_count": 25,
   "metadata": {},
   "outputs": [
    {
     "data": {
      "text/plain": [
       "<matplotlib.legend.Legend at 0x7f7457c651d0>"
      ]
     },
     "execution_count": 25,
     "metadata": {},
     "output_type": "execute_result"
    },
    {
     "data": {
      "image/png": "[encoded data removed]",
      "text/plain": [
       "<matplotlib.figure.Figure at 0x7f7457db0a90>"
      ]
     },
     "metadata": {
      "needs_background": "light"
     },
     "output_type": "display_data"
    }
   ],
   "source": [
    "import matplotlib.pyplot as plt\n",
    "%matplotlib inline\n",
    "\n",
    "plt.plot(episode_scores, label = 'Episode scores')\n",
    "plt.plot(average_scores, label = 'Average scores')\n",
    "plt.xlabel('Episodes')\n",
    "plt.ylabel('Scores')\n",
    "plt.title('Score Plot')\n",
    "plt.legend(bbox_to_anchor=(1.05, 1), loc='upper left', borderaxespad=0.)\n"
   ]
  },
  {
   "cell_type": "code",
   "execution_count": null,
   "metadata": {},
   "outputs": [],
   "source": []
  },
  {
   "cell_type": "code",
   "execution_count": null,
   "metadata": {},
   "outputs": [],
   "source": [
    "#Initialize Agent\n",
    "agent_1 = Agent(state_size=48, action_size=action_size, num_agents=1, random_seed=0)\n",
    "agent_2 = Agent(state_size=48, action_size=action_size, num_agents=1, random_seed=0)\n",
    "\n",
    "# Load trained model weights for agent 1\n",
    "agent_1.actor_local.load_state_dict(torch.load('ddpgActor1_Model.pth'))\n",
    "agent_1.critic_local.load_state_dict(torch.load('ddpgCritic1_Model.pth'))\n",
    "\n",
    "# Load trained model weights for agent 2\n",
    "agent_2.actor_local.load_state_dict(torch.load('ddpgActor2_Model.pth'))\n",
    "agent_2.critic_local.load_state_dict(torch.load('ddpgCritic2_Model.pth'))\n"
   ]
  },
  {
   "cell_type": "code",
   "execution_count": null,
   "metadata": {},
   "outputs": [],
   "source": [
    "for i_episode in range(1, num_episodes+1):\n",
    "\n",
    "    # reset the unity environment at the beginning of each episode\n",
    "    # set train mode to false\n",
    "    env_info = env.reset(train_mode=False)[brain_name]     \n",
    "\n",
    "    # get initial state of the unity environment \n",
    "    states = env_info.vector_observations\n",
    "    states = np.reshape(states, (1, 48))  # reshape so we can feed both agents states to each agent\n",
    "\n",
    "    # reset the training agent for new episode\n",
    "    agent_1.reset()\n",
    "    agent_2.reset()\n",
    "\n",
    "    # set the initial episode scores to zero for each unity agent.\n",
    "    agent_scores = np.zeros(num_agents)\n",
    "\n",
    "    # Run the episode loop;\n",
    "    # At each loop step take an action as a function of the current state observations\n",
    "    # If environment episode is done, exit loop...\n",
    "    # Otherwise repeat until done == true \n",
    "    while True:\n",
    "        # determine actions for the unity agents from current sate\n",
    "        actions_1 = agent_1.act(states, add_noise=False)\n",
    "        actions_2 = agent_2.act(states, add_noise=False)\n",
    "\n",
    "        # send the actions to the unity agents in the environment and receive resultant environment information\n",
    "        actions = np.concatenate((actions_1, actions_2), axis=0) \n",
    "        actions = np.reshape(actions, (1, 4))\n",
    "        env_info = env.step(actions)[brain_name]\n",
    "\n",
    "        next_states = env_info.vector_observations   # get the next states for each unity agent in the environment\n",
    "        next_states = np.reshape(next_states, (1, 48))\n",
    "        rewards = env_info.rewards                   # get the rewards for each unity agent in the environment\n",
    "        dones = env_info.local_done                  # see if episode has finished for each unity agent in the environment\n",
    "\n",
    "        # set new states to current states for determining next actions\n",
    "        states = next_states\n",
    "\n",
    "        # Update episode score for each unity agent\n",
    "        agent_scores += rewards\n",
    "\n",
    "        # If any unity agent indicates that the episode is done, \n",
    "        # then exit episode loop, to begin new episode\n",
    "        if np.any(dones):\n",
    "            break\n",
    "\n",
    "    # Print current average score\n",
    "    if i_episode % 100 == 0:\n",
    "        print('\\nEpisode {}\\tAgent1 Score: {:.2f}\\tAgent2 Score: {:.2f}'.format(i_episode, agent_scores[0], agent_scores[1], end=\"\"))\n"
   ]
  },
  {
   "cell_type": "code",
   "execution_count": null,
   "metadata": {},
   "outputs": [],
   "source": []
  },
  {
   "cell_type": "code",
   "execution_count": null,
   "metadata": {},
   "outputs": [],
   "source": []
  }
 ],
 "metadata": {
  "kernelspec": {
   "display_name": "Python 3",
   "language": "python",
   "name": "python3"
  },
  "language_info": {
   "codemirror_mode": {
    "name": "ipython",
    "version": 3
   },
   "file_extension": ".py",
   "mimetype": "text/x-python",
   "name": "python",
   "nbconvert_exporter": "python",
   "pygments_lexer": "ipython3",
   "version": "3.6.3"
  }
 },
 "nbformat": 4,
 "nbformat_minor": 2
}
